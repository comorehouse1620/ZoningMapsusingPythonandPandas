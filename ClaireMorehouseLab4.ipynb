{
  "nbformat": 4,
  "nbformat_minor": 0,
  "metadata": {
    "colab": {
      "name": "ClaireMorehouseLab4.ipynb",
      "provenance": []
    },
    "kernelspec": {
      "name": "python3",
      "display_name": "Python 3"
    }
  },
  "cells": [
    {
      "cell_type": "code",
      "metadata": {
        "id": "xAVkWv_xnOoP"
      },
      "source": [
        "'''\n",
        "Author: Claire Morehouse\n",
        "Description: This lab using Python package Pandas to import PUDs - Planned Unit Development - shapefile for DC and an affordable housing dataset and\n",
        "turns the afforable housing csv into a geodataframe and merges the shapefile and the csv file based on the geographic intersection. A master geodataframe\n",
        "is created containing the information about zoning exemptions as well as affordable housing projects at the same geographic locations. The final step \n",
        "merges this with the a zoning categories crosswalk to get the zoning cateogories in \"plain english.\" The final output is a map of the PUDs that offer \n",
        "affordable housing.\n",
        "Inputs: PUDs Shapefile, Affordable Housing CSV, Zoning Crosswalks CSV\n",
        "Outputs: Map of PUDS by zoning category, map of just the PUDS that provide affordable housing \n",
        "'''"
      ],
      "execution_count": null,
      "outputs": []
    },
    {
      "cell_type": "code",
      "metadata": {
        "id": "6tyv-3fnT_dU",
        "outputId": "5cfc48ee-8b8d-442b-cdda-36d81243525c",
        "colab": {
          "base_uri": "https://localhost:8080/"
        }
      },
      "source": [
        "# Add gis packages to colab environment\n",
        "!pip install geopandas\n",
        "!apt-get install -y libspatialindex-dev\n",
        "!pip install rtree\n",
        "\n",
        "# Then import packages\n",
        "import pandas as pd  # provides interface for interacting with tabular data\n",
        "import geopandas as gpd  # combines the capabilities of pandas and shapely for geospatial operations\n",
        "from shapely.geometry import Point, Polygon, MultiPolygon  # for manipulating text data into geospatial shapes\n",
        "from shapely import wkt  # stands for \"well known text,\" allows for interchange across GIS programs\n",
        "import rtree  # supports geospatial join"
      ],
      "execution_count": 1,
      "outputs": [
        {
          "output_type": "stream",
          "text": [
            "Collecting geopandas\n",
            "\u001b[?25l  Downloading https://files.pythonhosted.org/packages/f7/a4/e66aafbefcbb717813bf3a355c8c4fc3ed04ea1dd7feb2920f2f4f868921/geopandas-0.8.1-py2.py3-none-any.whl (962kB)\n",
            "\u001b[K     |████████████████████████████████| 972kB 5.7MB/s \n",
            "\u001b[?25hRequirement already satisfied: pandas>=0.23.0 in /usr/local/lib/python3.6/dist-packages (from geopandas) (1.1.4)\n",
            "Requirement already satisfied: shapely in /usr/local/lib/python3.6/dist-packages (from geopandas) (1.7.1)\n",
            "Collecting pyproj>=2.2.0\n",
            "\u001b[?25l  Downloading https://files.pythonhosted.org/packages/e4/ab/280e80a67cfc109d15428c0ec56391fc03a65857b7727cf4e6e6f99a4204/pyproj-3.0.0.post1-cp36-cp36m-manylinux2010_x86_64.whl (6.4MB)\n",
            "\u001b[K     |████████████████████████████████| 6.5MB 14.5MB/s \n",
            "\u001b[?25hCollecting fiona\n",
            "\u001b[?25l  Downloading https://files.pythonhosted.org/packages/36/8b/e8b2c11bed5373c8e98edb85ce891b09aa1f4210fd451d0fb3696b7695a2/Fiona-1.8.17-cp36-cp36m-manylinux1_x86_64.whl (14.8MB)\n",
            "\u001b[K     |████████████████████████████████| 14.8MB 327kB/s \n",
            "\u001b[?25hRequirement already satisfied: numpy>=1.15.4 in /usr/local/lib/python3.6/dist-packages (from pandas>=0.23.0->geopandas) (1.18.5)\n",
            "Requirement already satisfied: python-dateutil>=2.7.3 in /usr/local/lib/python3.6/dist-packages (from pandas>=0.23.0->geopandas) (2.8.1)\n",
            "Requirement already satisfied: pytz>=2017.2 in /usr/local/lib/python3.6/dist-packages (from pandas>=0.23.0->geopandas) (2018.9)\n",
            "Requirement already satisfied: certifi in /usr/local/lib/python3.6/dist-packages (from pyproj>=2.2.0->geopandas) (2020.6.20)\n",
            "Collecting munch\n",
            "  Downloading https://files.pythonhosted.org/packages/cc/ab/85d8da5c9a45e072301beb37ad7f833cd344e04c817d97e0cc75681d248f/munch-2.5.0-py2.py3-none-any.whl\n",
            "Requirement already satisfied: attrs>=17 in /usr/local/lib/python3.6/dist-packages (from fiona->geopandas) (20.2.0)\n",
            "Collecting click-plugins>=1.0\n",
            "  Downloading https://files.pythonhosted.org/packages/e9/da/824b92d9942f4e472702488857914bdd50f73021efea15b4cad9aca8ecef/click_plugins-1.1.1-py2.py3-none-any.whl\n",
            "Collecting cligj>=0.5\n",
            "  Downloading https://files.pythonhosted.org/packages/ba/06/e3440b1f2dc802d35f329f299ba96153e9fcbfdef75e17f4b61f79430c6a/cligj-0.7.0-py3-none-any.whl\n",
            "Requirement already satisfied: six>=1.7 in /usr/local/lib/python3.6/dist-packages (from fiona->geopandas) (1.15.0)\n",
            "Requirement already satisfied: click<8,>=4.0 in /usr/local/lib/python3.6/dist-packages (from fiona->geopandas) (7.1.2)\n",
            "Installing collected packages: pyproj, munch, click-plugins, cligj, fiona, geopandas\n",
            "Successfully installed click-plugins-1.1.1 cligj-0.7.0 fiona-1.8.17 geopandas-0.8.1 munch-2.5.0 pyproj-3.0.0.post1\n",
            "Reading package lists... Done\n",
            "Building dependency tree       \n",
            "Reading state information... Done\n",
            "The following additional packages will be installed:\n",
            "  libspatialindex-c4v5 libspatialindex4v5\n",
            "The following NEW packages will be installed:\n",
            "  libspatialindex-c4v5 libspatialindex-dev libspatialindex4v5\n",
            "0 upgraded, 3 newly installed, 0 to remove and 12 not upgraded.\n",
            "Need to get 555 kB of archives.\n",
            "After this operation, 3,308 kB of additional disk space will be used.\n",
            "Get:1 http://archive.ubuntu.com/ubuntu bionic/universe amd64 libspatialindex4v5 amd64 1.8.5-5 [219 kB]\n",
            "Get:2 http://archive.ubuntu.com/ubuntu bionic/universe amd64 libspatialindex-c4v5 amd64 1.8.5-5 [51.7 kB]\n",
            "Get:3 http://archive.ubuntu.com/ubuntu bionic/universe amd64 libspatialindex-dev amd64 1.8.5-5 [285 kB]\n",
            "Fetched 555 kB in 2s (275 kB/s)\n",
            "Selecting previously unselected package libspatialindex4v5:amd64.\n",
            "(Reading database ... 144786 files and directories currently installed.)\n",
            "Preparing to unpack .../libspatialindex4v5_1.8.5-5_amd64.deb ...\n",
            "Unpacking libspatialindex4v5:amd64 (1.8.5-5) ...\n",
            "Selecting previously unselected package libspatialindex-c4v5:amd64.\n",
            "Preparing to unpack .../libspatialindex-c4v5_1.8.5-5_amd64.deb ...\n",
            "Unpacking libspatialindex-c4v5:amd64 (1.8.5-5) ...\n",
            "Selecting previously unselected package libspatialindex-dev:amd64.\n",
            "Preparing to unpack .../libspatialindex-dev_1.8.5-5_amd64.deb ...\n",
            "Unpacking libspatialindex-dev:amd64 (1.8.5-5) ...\n",
            "Setting up libspatialindex4v5:amd64 (1.8.5-5) ...\n",
            "Setting up libspatialindex-c4v5:amd64 (1.8.5-5) ...\n",
            "Setting up libspatialindex-dev:amd64 (1.8.5-5) ...\n",
            "Processing triggers for libc-bin (2.27-3ubuntu1.2) ...\n",
            "/sbin/ldconfig.real: /usr/local/lib/python3.6/dist-packages/ideep4py/lib/libmkldnn.so.0 is not a symbolic link\n",
            "\n",
            "Collecting rtree\n",
            "\u001b[?25l  Downloading https://files.pythonhosted.org/packages/56/6f/f1e91001d5ad9fa9bed65875152f5a1c7955c5763168cae309546e6e9fda/Rtree-0.9.4.tar.gz (62kB)\n",
            "\u001b[K     |████████████████████████████████| 71kB 3.2MB/s \n",
            "\u001b[?25hRequirement already satisfied: setuptools in /usr/local/lib/python3.6/dist-packages (from rtree) (50.3.2)\n",
            "Building wheels for collected packages: rtree\n",
            "  Building wheel for rtree (setup.py) ... \u001b[?25l\u001b[?25hdone\n",
            "  Created wheel for rtree: filename=Rtree-0.9.4-cp36-none-any.whl size=21769 sha256=e8ec66494543f3a69c0ff8be1f788dabc23d6be87fa19d61476c1b376c234131\n",
            "  Stored in directory: /root/.cache/pip/wheels/ff/20/c5/0004ef7acb96745ec99be960053902b0b414a2aa2dcad5834e\n",
            "Successfully built rtree\n",
            "Installing collected packages: rtree\n",
            "Successfully installed rtree-0.9.4\n"
          ],
          "name": "stdout"
        }
      ]
    },
    {
      "cell_type": "code",
      "metadata": {
        "id": "_seheirPUXe2",
        "outputId": "3b539b9c-8cc8-424c-84cd-b0bac54a3e7e",
        "colab": {
          "base_uri": "https://localhost:8080/"
        }
      },
      "source": [
        "from google.colab import drive\n",
        "drive.mount('/content/gdrive') # connects Colab to your Google Drive\n",
        "root_path = 'gdrive/My Drive/gis/' # set root path to folder where you uploaded the data"
      ],
      "execution_count": 2,
      "outputs": [
        {
          "output_type": "stream",
          "text": [
            "Mounted at /content/gdrive\n"
          ],
          "name": "stdout"
        }
      ]
    },
    {
      "cell_type": "code",
      "metadata": {
        "id": "vmWr8RKjUmxm"
      },
      "source": [
        "# Read in PUDs file as a geodataframe and initialize coordinate reference system (CRS)\n",
        "puds = gpd.read_file(root_path+'input/Planned_Unit_Development__PUDs_.shp', crs = {'init' :'epsg:4326'})\n",
        "aff = pd.read_csv(root_path+'input/Affordable_Housing.csv')\n",
        "crosswalk = pd.read_csv(root_path+'input/zoning_crosswalk.csv')"
      ],
      "execution_count": 4,
      "outputs": []
    },
    {
      "cell_type": "code",
      "metadata": {
        "id": "bBWXAQj_VTVm",
        "outputId": "1d418e13-46b7-4ce0-e0a0-dbf8aea66b22",
        "colab": {
          "base_uri": "https://localhost:8080/",
          "height": 383
        }
      },
      "source": [
        "# Running this code grabs rows from the first 3 index places (4 rows total!)\n",
        "puds.sample(3)"
      ],
      "execution_count": 5,
      "outputs": [
        {
          "output_type": "execute_result",
          "data": {
            "text/html": [
              "<div>\n",
              "<style scoped>\n",
              "    .dataframe tbody tr th:only-of-type {\n",
              "        vertical-align: middle;\n",
              "    }\n",
              "\n",
              "    .dataframe tbody tr th {\n",
              "        vertical-align: top;\n",
              "    }\n",
              "\n",
              "    .dataframe thead th {\n",
              "        text-align: right;\n",
              "    }\n",
              "</style>\n",
              "<table border=\"1\" class=\"dataframe\">\n",
              "  <thead>\n",
              "    <tr style=\"text-align: right;\">\n",
              "      <th></th>\n",
              "      <th>OBJECTID</th>\n",
              "      <th>PUD_NAME</th>\n",
              "      <th>PUD_WEB_UR</th>\n",
              "      <th>PUD_CHANGE</th>\n",
              "      <th>PUD_ZONING</th>\n",
              "      <th>PUD_STATUS</th>\n",
              "      <th>PUD_CASE_N</th>\n",
              "      <th>GLOBALID</th>\n",
              "      <th>WARD</th>\n",
              "      <th>SHAPEAREA</th>\n",
              "      <th>SHAPELEN</th>\n",
              "      <th>geometry</th>\n",
              "    </tr>\n",
              "  </thead>\n",
              "  <tbody>\n",
              "    <tr>\n",
              "      <th>271</th>\n",
              "      <td>147780</td>\n",
              "      <td>Stanton Square LLC</td>\n",
              "      <td>https://app.dcoz.dc.gov/Content/Search/ViewCas...</td>\n",
              "      <td>MC of Consolidated PUD, Approved 10/21/19, DC ...</td>\n",
              "      <td>R-5-A, SP-1</td>\n",
              "      <td>Final</td>\n",
              "      <td>13-09C</td>\n",
              "      <td>{D4EF39CA-C066-4554-855B-D4F904CC4C84}</td>\n",
              "      <td>Ward 8</td>\n",
              "      <td>0</td>\n",
              "      <td>0</td>\n",
              "      <td>POLYGON ((-76.98687 38.85618, -76.98675 38.856...</td>\n",
              "    </tr>\n",
              "    <tr>\n",
              "      <th>207</th>\n",
              "      <td>147716</td>\n",
              "      <td>Terrace Manor Redevelopment LP</td>\n",
              "      <td>https://app.dcoz.dc.gov/Content/Search/ViewCas...</td>\n",
              "      <td>Setdown 02/10/20</td>\n",
              "      <td>None</td>\n",
              "      <td>Pending</td>\n",
              "      <td>19-19</td>\n",
              "      <td>{CBCDDFF1-9C3B-46C9-BBEB-2946DDF70D85}</td>\n",
              "      <td>Ward 8</td>\n",
              "      <td>0</td>\n",
              "      <td>0</td>\n",
              "      <td>POLYGON ((-76.97211 38.84846, -76.97197 38.848...</td>\n",
              "    </tr>\n",
              "    <tr>\n",
              "      <th>254</th>\n",
              "      <td>147763</td>\n",
              "      <td>Professional Associates and International Fina...</td>\n",
              "      <td>https://app.dcoz.dc.gov/Content/Search/ViewCas...</td>\n",
              "      <td>Case # 14-04 Set Down 4/15/14, Approved 12/5/14</td>\n",
              "      <td>None</td>\n",
              "      <td>Final</td>\n",
              "      <td>14-04A</td>\n",
              "      <td>{ADFD194D-3875-49AC-BD59-1B2C55FB7489}</td>\n",
              "      <td>Ward 2</td>\n",
              "      <td>0</td>\n",
              "      <td>0</td>\n",
              "      <td>POLYGON ((-77.04867 38.90234, -77.04725 38.902...</td>\n",
              "    </tr>\n",
              "  </tbody>\n",
              "</table>\n",
              "</div>"
            ],
            "text/plain": [
              "     OBJECTID  ...                                           geometry\n",
              "271    147780  ...  POLYGON ((-76.98687 38.85618, -76.98675 38.856...\n",
              "207    147716  ...  POLYGON ((-76.97211 38.84846, -76.97197 38.848...\n",
              "254    147763  ...  POLYGON ((-77.04867 38.90234, -77.04725 38.902...\n",
              "\n",
              "[3 rows x 12 columns]"
            ]
          },
          "metadata": {
            "tags": []
          },
          "execution_count": 5
        }
      ]
    },
    {
      "cell_type": "code",
      "metadata": {
        "id": "U9WFcC-TVeBH",
        "outputId": "0f181033-b63e-44be-9a15-52fdcefd0f2e",
        "colab": {
          "base_uri": "https://localhost:8080/"
        }
      },
      "source": [
        "# This gives you a summary of what is within the Affordable housing .csv\n",
        "aff.info()"
      ],
      "execution_count": 6,
      "outputs": [
        {
          "output_type": "stream",
          "text": [
            "<class 'pandas.core.frame.DataFrame'>\n",
            "RangeIndex: 518 entries, 0 to 517\n",
            "Data columns (total 22 columns):\n",
            " #   Column                         Non-Null Count  Dtype  \n",
            "---  ------                         --------------  -----  \n",
            " 0   X                              518 non-null    float64\n",
            " 1   Y                              518 non-null    float64\n",
            " 2   OBJECTID                       518 non-null    int64  \n",
            " 3   MAR_WARD                       517 non-null    object \n",
            " 4   ADDRESS                        513 non-null    object \n",
            " 5   PROJECT_NAME                   518 non-null    object \n",
            " 6   STATUS_PUBLIC                  518 non-null    object \n",
            " 7   AGENCY_CALCULATED              518 non-null    object \n",
            " 8   TOTAL_AFFORDABLE_UNITS         518 non-null    int64  \n",
            " 9   LATITUDE                       513 non-null    float64\n",
            " 10  LONGITUDE                      514 non-null    float64\n",
            " 11  AFFORDABLE_UNITS_AT_0_30_AMI   518 non-null    int64  \n",
            " 12  AFFORDABLE_UNITS_AT_31_50_AMI  518 non-null    int64  \n",
            " 13  AFFORDABLE_UNITS_AT_51_60_AMI  518 non-null    int64  \n",
            " 14  AFFORDABLE_UNITS_AT_61_80_AMI  518 non-null    int64  \n",
            " 15  AFFORDABLE_UNITS_AT_81_AMI     518 non-null    int64  \n",
            " 16  CASE_ID                        96 non-null     object \n",
            " 17  ADDRESS_ID                     447 non-null    float64\n",
            " 18  XCOORD                         518 non-null    float64\n",
            " 19  YCOORD                         518 non-null    float64\n",
            " 20  FULLADDRESS                    446 non-null    object \n",
            " 21  GIS_LAST_MOD_DTTM              518 non-null    object \n",
            "dtypes: float64(7), int64(7), object(8)\n",
            "memory usage: 89.2+ KB\n"
          ],
          "name": "stdout"
        }
      ]
    },
    {
      "cell_type": "code",
      "metadata": {
        "id": "CWQ0it2aViUq",
        "outputId": "54baab8d-6b62-47c3-926e-6c9931fb407e",
        "colab": {
          "base_uri": "https://localhost:8080/"
        }
      },
      "source": [
        "# This gives you a summary of what is within the PUD .shp file\n",
        "puds.info()"
      ],
      "execution_count": 7,
      "outputs": [
        {
          "output_type": "stream",
          "text": [
            "<class 'geopandas.geodataframe.GeoDataFrame'>\n",
            "RangeIndex: 298 entries, 0 to 297\n",
            "Data columns (total 12 columns):\n",
            " #   Column      Non-Null Count  Dtype   \n",
            "---  ------      --------------  -----   \n",
            " 0   OBJECTID    298 non-null    int64   \n",
            " 1   PUD_NAME    298 non-null    object  \n",
            " 2   PUD_WEB_UR  298 non-null    object  \n",
            " 3   PUD_CHANGE  296 non-null    object  \n",
            " 4   PUD_ZONING  298 non-null    object  \n",
            " 5   PUD_STATUS  298 non-null    object  \n",
            " 6   PUD_CASE_N  298 non-null    object  \n",
            " 7   GLOBALID    298 non-null    object  \n",
            " 8   WARD        298 non-null    object  \n",
            " 9   SHAPEAREA   298 non-null    int64   \n",
            " 10  SHAPELEN    298 non-null    int64   \n",
            " 11  geometry    298 non-null    geometry\n",
            "dtypes: geometry(1), int64(3), object(8)\n",
            "memory usage: 28.1+ KB\n"
          ],
          "name": "stdout"
        }
      ]
    },
    {
      "cell_type": "code",
      "metadata": {
        "id": "KlQaK__0VnY6",
        "outputId": "c13e4d03-421c-4239-a360-40bd9583ea71",
        "colab": {
          "base_uri": "https://localhost:8080/"
        }
      },
      "source": [
        "# Create a geometry column in the affordable housing dataframe\n",
        "aff['geometry'] = aff.apply(lambda row: Point(row.X, row.Y), axis=1)\n",
        "aff = gpd.GeoDataFrame(aff, crs={'init' :'epsg:4326'})"
      ],
      "execution_count": 8,
      "outputs": [
        {
          "output_type": "stream",
          "text": [
            "/usr/local/lib/python3.6/dist-packages/pyproj/crs/crs.py:53: FutureWarning: '+init=<authority>:<code>' syntax is deprecated. '<authority>:<code>' is the preferred initialization method. When making the change, be mindful of axis order changes: https://pyproj4.github.io/pyproj/stable/gotchas.html#axis-order-changes-in-proj-6\n",
            "  return _prepare_from_string(\" \".join(pjargs))\n"
          ],
          "name": "stderr"
        }
      ]
    },
    {
      "cell_type": "code",
      "metadata": {
        "id": "Ml2lxCrSV6YJ",
        "outputId": "d5ed935f-ffb7-4dc3-d07a-98c1a77eef69",
        "colab": {
          "base_uri": "https://localhost:8080/",
          "height": 168
        }
      },
      "source": [
        "aff.sample(1) #sampling to the first index... or column headers and one row."
      ],
      "execution_count": 9,
      "outputs": [
        {
          "output_type": "execute_result",
          "data": {
            "text/html": [
              "<div>\n",
              "<style scoped>\n",
              "    .dataframe tbody tr th:only-of-type {\n",
              "        vertical-align: middle;\n",
              "    }\n",
              "\n",
              "    .dataframe tbody tr th {\n",
              "        vertical-align: top;\n",
              "    }\n",
              "\n",
              "    .dataframe thead th {\n",
              "        text-align: right;\n",
              "    }\n",
              "</style>\n",
              "<table border=\"1\" class=\"dataframe\">\n",
              "  <thead>\n",
              "    <tr style=\"text-align: right;\">\n",
              "      <th></th>\n",
              "      <th>X</th>\n",
              "      <th>Y</th>\n",
              "      <th>OBJECTID</th>\n",
              "      <th>MAR_WARD</th>\n",
              "      <th>ADDRESS</th>\n",
              "      <th>PROJECT_NAME</th>\n",
              "      <th>STATUS_PUBLIC</th>\n",
              "      <th>AGENCY_CALCULATED</th>\n",
              "      <th>TOTAL_AFFORDABLE_UNITS</th>\n",
              "      <th>LATITUDE</th>\n",
              "      <th>LONGITUDE</th>\n",
              "      <th>AFFORDABLE_UNITS_AT_0_30_AMI</th>\n",
              "      <th>AFFORDABLE_UNITS_AT_31_50_AMI</th>\n",
              "      <th>AFFORDABLE_UNITS_AT_51_60_AMI</th>\n",
              "      <th>AFFORDABLE_UNITS_AT_61_80_AMI</th>\n",
              "      <th>AFFORDABLE_UNITS_AT_81_AMI</th>\n",
              "      <th>CASE_ID</th>\n",
              "      <th>ADDRESS_ID</th>\n",
              "      <th>XCOORD</th>\n",
              "      <th>YCOORD</th>\n",
              "      <th>FULLADDRESS</th>\n",
              "      <th>GIS_LAST_MOD_DTTM</th>\n",
              "      <th>geometry</th>\n",
              "    </tr>\n",
              "  </thead>\n",
              "  <tbody>\n",
              "    <tr>\n",
              "      <th>322</th>\n",
              "      <td>-77.001611</td>\n",
              "      <td>38.905805</td>\n",
              "      <td>1300</td>\n",
              "      <td>Ward 6</td>\n",
              "      <td>300 M Street Northeast, Washington, District o...</td>\n",
              "      <td>300 M Street NE</td>\n",
              "      <td>Pipeline</td>\n",
              "      <td>DHCD OP</td>\n",
              "      <td>35</td>\n",
              "      <td>38.905798</td>\n",
              "      <td>-77.001609</td>\n",
              "      <td>0</td>\n",
              "      <td>0</td>\n",
              "      <td>7</td>\n",
              "      <td>28</td>\n",
              "      <td>0</td>\n",
              "      <td>14-19</td>\n",
              "      <td>NaN</td>\n",
              "      <td>399860.480364</td>\n",
              "      <td>137548.887561</td>\n",
              "      <td>NaN</td>\n",
              "      <td>2020/11/09 04:00:32+00</td>\n",
              "      <td>POINT (-77.00161 38.90581)</td>\n",
              "    </tr>\n",
              "  </tbody>\n",
              "</table>\n",
              "</div>"
            ],
            "text/plain": [
              "             X          Y  ...       GIS_LAST_MOD_DTTM                    geometry\n",
              "322 -77.001611  38.905805  ...  2020/11/09 04:00:32+00  POINT (-77.00161 38.90581)\n",
              "\n",
              "[1 rows x 23 columns]"
            ]
          },
          "metadata": {
            "tags": []
          },
          "execution_count": 9
        }
      ]
    },
    {
      "cell_type": "code",
      "metadata": {
        "id": "Lh1ZNmAKV_iH",
        "outputId": "9a522cbd-d9a1-4d1f-fde4-68861154d795",
        "colab": {
          "base_uri": "https://localhost:8080/"
        }
      },
      "source": [
        "# Use geospatial join to identify which PUDs include affordable housing projects\n",
        "puds_aff = gpd.sjoin(puds, aff, op='intersects', how='left')"
      ],
      "execution_count": 10,
      "outputs": [
        {
          "output_type": "stream",
          "text": [
            "/usr/local/lib/python3.6/dist-packages/ipykernel_launcher.py:2: UserWarning: CRS mismatch between the CRS of left geometries and the CRS of right geometries.\n",
            "Use `to_crs()` to reproject one of the input geometries to match the CRS of the other.\n",
            "\n",
            "Left CRS: EPSG:4326\n",
            "Right CRS: +init=epsg:4326 +type=crs\n",
            "\n",
            "  \n"
          ],
          "name": "stderr"
        }
      ]
    },
    {
      "cell_type": "code",
      "metadata": {
        "id": "dJFKH8U1WDNS",
        "outputId": "68a52319-dbaf-4e4e-8008-c7a7e866f541",
        "colab": {
          "base_uri": "https://localhost:8080/"
        }
      },
      "source": [
        "# Check our Merge - incremental development, we're checking as we go!\n",
        "puds_aff.info()"
      ],
      "execution_count": 11,
      "outputs": [
        {
          "output_type": "stream",
          "text": [
            "<class 'geopandas.geodataframe.GeoDataFrame'>\n",
            "Int64Index: 305 entries, 0 to 297\n",
            "Data columns (total 35 columns):\n",
            " #   Column                         Non-Null Count  Dtype   \n",
            "---  ------                         --------------  -----   \n",
            " 0   OBJECTID_left                  305 non-null    int64   \n",
            " 1   PUD_NAME                       305 non-null    object  \n",
            " 2   PUD_WEB_UR                     305 non-null    object  \n",
            " 3   PUD_CHANGE                     303 non-null    object  \n",
            " 4   PUD_ZONING                     305 non-null    object  \n",
            " 5   PUD_STATUS                     305 non-null    object  \n",
            " 6   PUD_CASE_N                     305 non-null    object  \n",
            " 7   GLOBALID                       305 non-null    object  \n",
            " 8   WARD                           305 non-null    object  \n",
            " 9   SHAPEAREA                      305 non-null    int64   \n",
            " 10  SHAPELEN                       305 non-null    int64   \n",
            " 11  geometry                       305 non-null    geometry\n",
            " 12  index_right                    78 non-null     float64 \n",
            " 13  X                              78 non-null     float64 \n",
            " 14  Y                              78 non-null     float64 \n",
            " 15  OBJECTID_right                 78 non-null     float64 \n",
            " 16  MAR_WARD                       78 non-null     object  \n",
            " 17  ADDRESS                        78 non-null     object  \n",
            " 18  PROJECT_NAME                   78 non-null     object  \n",
            " 19  STATUS_PUBLIC                  78 non-null     object  \n",
            " 20  AGENCY_CALCULATED              78 non-null     object  \n",
            " 21  TOTAL_AFFORDABLE_UNITS         78 non-null     float64 \n",
            " 22  LATITUDE                       78 non-null     float64 \n",
            " 23  LONGITUDE                      78 non-null     float64 \n",
            " 24  AFFORDABLE_UNITS_AT_0_30_AMI   78 non-null     float64 \n",
            " 25  AFFORDABLE_UNITS_AT_31_50_AMI  78 non-null     float64 \n",
            " 26  AFFORDABLE_UNITS_AT_51_60_AMI  78 non-null     float64 \n",
            " 27  AFFORDABLE_UNITS_AT_61_80_AMI  78 non-null     float64 \n",
            " 28  AFFORDABLE_UNITS_AT_81_AMI     78 non-null     float64 \n",
            " 29  CASE_ID                        64 non-null     object  \n",
            " 30  ADDRESS_ID                     67 non-null     float64 \n",
            " 31  XCOORD                         78 non-null     float64 \n",
            " 32  YCOORD                         78 non-null     float64 \n",
            " 33  FULLADDRESS                    67 non-null     object  \n",
            " 34  GIS_LAST_MOD_DTTM              78 non-null     object  \n",
            "dtypes: float64(15), geometry(1), int64(3), object(16)\n",
            "memory usage: 85.8+ KB\n"
          ],
          "name": "stdout"
        }
      ]
    },
    {
      "cell_type": "code",
      "metadata": {
        "id": "Aq2r217RY-ik"
      },
      "source": [
        "# Merge dataframe with zoning categories crosswalk\n",
        "puds_info = puds_aff.merge(crosswalk[['Zone_Cat']], how='left', left_on='PUD_ZONING', right_on=crosswalk['Zone'])"
      ],
      "execution_count": 12,
      "outputs": []
    },
    {
      "cell_type": "code",
      "metadata": {
        "id": "QqK4i3w8ZCKA",
        "outputId": "a39d9c78-d40e-4502-e1aa-d353318f4f1f",
        "colab": {
          "base_uri": "https://localhost:8080/"
        }
      },
      "source": [
        "# Quick count using print statements to show us how many PUDs there are total, and how many offer affordable housing.\n",
        "\n",
        "print(f\"Total count of PUDs: {puds_info.shape[0]}\")\n",
        "print(f\"Count PUDs offering Affordable Housing: {puds_info.loc[~puds_info.PROJECT_NAME.isna()].shape[0]}\")"
      ],
      "execution_count": 13,
      "outputs": [
        {
          "output_type": "stream",
          "text": [
            "Total count of PUDs: 305\n",
            "Count PUDs offering Affordable Housing: 78\n"
          ],
          "name": "stdout"
        }
      ]
    },
    {
      "cell_type": "code",
      "metadata": {
        "id": "YqS2WLh0ZGGK",
        "outputId": "e4a511f8-dca7-418d-d5a4-94bb11e93088",
        "colab": {
          "base_uri": "https://localhost:8080/",
          "height": 483
        }
      },
      "source": [
        "# Create a map of PUDs by Zoning Category\n",
        "puds_info.plot(column='Zone_Cat', legend=True, figsize=(16,8));"
      ],
      "execution_count": 14,
      "outputs": [
        {
          "output_type": "display_data",
          "data": {
            "image/png": "[encoded data removed]",
            "text/plain": [
              "<Figure size 1152x576 with 1 Axes>"
            ]
          },
          "metadata": {
            "tags": [],
            "needs_background": "light"
          }
        }
      ]
    },
    {
      "cell_type": "code",
      "metadata": {
        "id": "cuLQ1JhzZKbb",
        "outputId": "45dd1566-c6d5-4f7e-f612-7b633200459a",
        "colab": {
          "base_uri": "https://localhost:8080/",
          "height": 517
        }
      },
      "source": [
        "# Create a map of just the PUDs that provide Affordable Housing\n",
        "puds_info[puds_info['TOTAL_AFFORDABLE_UNITS']>0].plot(column='TOTAL_AFFORDABLE_UNITS', color='grey', figsize=(16,8));"
      ],
      "execution_count": 15,
      "outputs": [
        {
          "output_type": "stream",
          "text": [
            "/usr/local/lib/python3.6/dist-packages/geopandas/plotting.py:573: UserWarning: Only specify one of 'column' or 'color'. Using 'color'.\n",
            "  \"Only specify one of 'column' or 'color'. Using 'color'.\", UserWarning\n"
          ],
          "name": "stderr"
        },
        {
          "output_type": "display_data",
          "data": {
            "image/png": "[encoded data removed]",
            "text/plain": [
              "<Figure size 1152x576 with 1 Axes>"
            ]
          },
          "metadata": {
            "tags": [],
            "needs_background": "light"
          }
        }
      ]
    },
    {
      "cell_type": "code",
      "metadata": {
        "id": "grujWgqrZO2T"
      },
      "source": [
        "# Export geodataframe as shapefile within Colab environment\n",
        "puds_info.to_file('puds_info.shp')\n",
        "\n",
        "# Copy shapefile components from Colab environment to Google Drive using bash script\n",
        "!cp puds_info.cpg 'gdrive/My Drive/gis/output'\n",
        "!cp puds_info.dbf 'gdrive/My Drive/gis/output'\n",
        "!cp puds_info.prj 'gdrive/My Drive/gis/output'\n",
        "!cp puds_info.shp 'gdrive/My Drive/gis/output'\n",
        "!cp puds_info.shx 'gdrive/My Drive/gis/output'"
      ],
      "execution_count": 16,
      "outputs": []
    }
  ]
}